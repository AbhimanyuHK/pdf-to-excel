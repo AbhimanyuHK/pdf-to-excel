{
 "cells": [
  {
   "cell_type": "code",
   "execution_count": 27,
   "id": "c956493c",
   "metadata": {},
   "outputs": [
    {
     "name": "stdout",
     "output_type": "stream",
     "text": [
      "Requirement already satisfied: tabula-py in c:\\users\\manyu\\appdata\\local\\programs\\python\\python310\\lib\\site-packages (2.9.0)\n",
      "Collecting openpyxl\n",
      "  Downloading openpyxl-3.1.2-py2.py3-none-any.whl.metadata (2.5 kB)\n",
      "Requirement already satisfied: pandas in c:\\users\\manyu\\appdata\\local\\programs\\python\\python310\\lib\\site-packages (2.2.0)\n",
      "Requirement already satisfied: numpy in c:\\users\\manyu\\appdata\\local\\programs\\python\\python310\\lib\\site-packages (1.24.1)\n",
      "Requirement already satisfied: distro in c:\\users\\manyu\\appdata\\local\\programs\\python\\python310\\lib\\site-packages (from tabula-py) (1.9.0)\n",
      "Collecting et-xmlfile (from openpyxl)\n",
      "  Downloading et_xmlfile-1.1.0-py3-none-any.whl.metadata (1.8 kB)\n",
      "Requirement already satisfied: python-dateutil>=2.8.2 in c:\\users\\manyu\\appdata\\local\\programs\\python\\python310\\lib\\site-packages (from pandas) (2.8.2)\n",
      "Requirement already satisfied: pytz>=2020.1 in c:\\users\\manyu\\appdata\\local\\programs\\python\\python310\\lib\\site-packages (from pandas) (2023.2)\n",
      "Requirement already satisfied: tzdata>=2022.7 in c:\\users\\manyu\\appdata\\local\\programs\\python\\python310\\lib\\site-packages (from pandas) (2023.4)\n",
      "Requirement already satisfied: six>=1.5 in c:\\users\\manyu\\appdata\\local\\programs\\python\\python310\\lib\\site-packages (from python-dateutil>=2.8.2->pandas) (1.16.0)\n",
      "Downloading openpyxl-3.1.2-py2.py3-none-any.whl (249 kB)\n",
      "   ---------------------------------------- 250.0/250.0 kB 5.1 MB/s eta 0:00:00\n",
      "Downloading et_xmlfile-1.1.0-py3-none-any.whl (4.7 kB)\n",
      "Installing collected packages: et-xmlfile, openpyxl\n",
      "Successfully installed et-xmlfile-1.1.0 openpyxl-3.1.2\n",
      "Note: you may need to restart the kernel to use updated packages.\n"
     ]
    },
    {
     "name": "stderr",
     "output_type": "stream",
     "text": [
      "\n",
      "[notice] A new release of pip is available: 23.3.2 -> 24.0\n",
      "[notice] To update, run: python.exe -m pip install --upgrade pip\n"
     ]
    }
   ],
   "source": [
    "pip install tabula-py openpyxl pandas numpy"
   ]
  },
  {
   "cell_type": "code",
   "execution_count": 15,
   "id": "e1f7a9a6",
   "metadata": {},
   "outputs": [],
   "source": [
    "import tabula\n",
    "import numpy as np"
   ]
  },
  {
   "cell_type": "code",
   "execution_count": 4,
   "id": "e853742f",
   "metadata": {},
   "outputs": [
    {
     "name": "stderr",
     "output_type": "stream",
     "text": [
      "Error importing jpype dependencies. Fallback to subprocess.\n",
      "No module named 'jpype'\n",
      "C:\\Users\\manyu\\AppData\\Local\\Programs\\Python\\Python310\\lib\\site-packages\\tabula\\io.py:1045: FutureWarning: errors='ignore' is deprecated and will raise in a future version. Use to_numeric without passing `errors` and catch exceptions explicitly instead\n",
      "  df[c] = pd.to_numeric(df[c], errors=\"ignore\")\n"
     ]
    }
   ],
   "source": [
    "table_pdf = tabula.read_pdf(\"table.pdf\", pages=1)"
   ]
  },
  {
   "cell_type": "code",
   "execution_count": 5,
   "id": "56d422cd",
   "metadata": {},
   "outputs": [
    {
     "data": {
      "text/plain": [
       "[    Unnamed: 0    Unnamed: 1 Unnamed: 2   Unnamed: 3    Unnamed: 4  \\\n",
       " 0          NaN           NaN        NaN      Ballots           NaN   \n",
       " 1   Disability           NaN    Ballots          NaN           NaN   \n",
       " 2          NaN  Participants        NaN  Incomplete/           NaN   \n",
       " 3     Category           NaN  Completed          NaN      Accuracy   \n",
       " 4          NaN           NaN        NaN   Terminated           NaN   \n",
       " 5          NaN           NaN        NaN          NaN           NaN   \n",
       " 6        Blind             5          1            4    34.5%, n=1   \n",
       " 7   Low Vision             5          2            3     98.3% n=2   \n",
       " 8          NaN           NaN        NaN          NaN  (97.7%, n=3)   \n",
       " 9    Dexterity             5          4            1    98.3%, n=4   \n",
       " 10    Mobility             3          3            0    95.4%, n=3   \n",
       " \n",
       "             Results  \n",
       " 0               NaN  \n",
       " 1               NaN  \n",
       " 2               NaN  \n",
       " 3           Time to  \n",
       " 4               NaN  \n",
       " 5          complete  \n",
       " 6     1199 sec, n=1  \n",
       " 7     1716 sec, n=3  \n",
       " 8   (1934 sec, n=2)  \n",
       " 9   1672.1 sec, n=4  \n",
       " 10    1416 sec, n=3  ]"
      ]
     },
     "execution_count": 5,
     "metadata": {},
     "output_type": "execute_result"
    }
   ],
   "source": [
    "table_pdf"
   ]
  },
  {
   "cell_type": "code",
   "execution_count": 6,
   "id": "7eca63e4",
   "metadata": {},
   "outputs": [
    {
     "data": {
      "text/html": [
       "<div>\n",
       "<style scoped>\n",
       "    .dataframe tbody tr th:only-of-type {\n",
       "        vertical-align: middle;\n",
       "    }\n",
       "\n",
       "    .dataframe tbody tr th {\n",
       "        vertical-align: top;\n",
       "    }\n",
       "\n",
       "    .dataframe thead th {\n",
       "        text-align: right;\n",
       "    }\n",
       "</style>\n",
       "<table border=\"1\" class=\"dataframe\">\n",
       "  <thead>\n",
       "    <tr style=\"text-align: right;\">\n",
       "      <th></th>\n",
       "      <th>Unnamed: 0</th>\n",
       "      <th>Unnamed: 1</th>\n",
       "      <th>Unnamed: 2</th>\n",
       "      <th>Unnamed: 3</th>\n",
       "      <th>Unnamed: 4</th>\n",
       "      <th>Results</th>\n",
       "    </tr>\n",
       "  </thead>\n",
       "  <tbody>\n",
       "    <tr>\n",
       "      <th>0</th>\n",
       "      <td>NaN</td>\n",
       "      <td>NaN</td>\n",
       "      <td>NaN</td>\n",
       "      <td>Ballots</td>\n",
       "      <td>NaN</td>\n",
       "      <td>NaN</td>\n",
       "    </tr>\n",
       "    <tr>\n",
       "      <th>1</th>\n",
       "      <td>Disability</td>\n",
       "      <td>NaN</td>\n",
       "      <td>Ballots</td>\n",
       "      <td>NaN</td>\n",
       "      <td>NaN</td>\n",
       "      <td>NaN</td>\n",
       "    </tr>\n",
       "    <tr>\n",
       "      <th>2</th>\n",
       "      <td>NaN</td>\n",
       "      <td>Participants</td>\n",
       "      <td>NaN</td>\n",
       "      <td>Incomplete/</td>\n",
       "      <td>NaN</td>\n",
       "      <td>NaN</td>\n",
       "    </tr>\n",
       "    <tr>\n",
       "      <th>3</th>\n",
       "      <td>Category</td>\n",
       "      <td>NaN</td>\n",
       "      <td>Completed</td>\n",
       "      <td>NaN</td>\n",
       "      <td>Accuracy</td>\n",
       "      <td>Time to</td>\n",
       "    </tr>\n",
       "    <tr>\n",
       "      <th>4</th>\n",
       "      <td>NaN</td>\n",
       "      <td>NaN</td>\n",
       "      <td>NaN</td>\n",
       "      <td>Terminated</td>\n",
       "      <td>NaN</td>\n",
       "      <td>NaN</td>\n",
       "    </tr>\n",
       "    <tr>\n",
       "      <th>5</th>\n",
       "      <td>NaN</td>\n",
       "      <td>NaN</td>\n",
       "      <td>NaN</td>\n",
       "      <td>NaN</td>\n",
       "      <td>NaN</td>\n",
       "      <td>complete</td>\n",
       "    </tr>\n",
       "    <tr>\n",
       "      <th>6</th>\n",
       "      <td>Blind</td>\n",
       "      <td>5</td>\n",
       "      <td>1</td>\n",
       "      <td>4</td>\n",
       "      <td>34.5%, n=1</td>\n",
       "      <td>1199 sec, n=1</td>\n",
       "    </tr>\n",
       "    <tr>\n",
       "      <th>7</th>\n",
       "      <td>Low Vision</td>\n",
       "      <td>5</td>\n",
       "      <td>2</td>\n",
       "      <td>3</td>\n",
       "      <td>98.3% n=2</td>\n",
       "      <td>1716 sec, n=3</td>\n",
       "    </tr>\n",
       "    <tr>\n",
       "      <th>8</th>\n",
       "      <td>NaN</td>\n",
       "      <td>NaN</td>\n",
       "      <td>NaN</td>\n",
       "      <td>NaN</td>\n",
       "      <td>(97.7%, n=3)</td>\n",
       "      <td>(1934 sec, n=2)</td>\n",
       "    </tr>\n",
       "    <tr>\n",
       "      <th>9</th>\n",
       "      <td>Dexterity</td>\n",
       "      <td>5</td>\n",
       "      <td>4</td>\n",
       "      <td>1</td>\n",
       "      <td>98.3%, n=4</td>\n",
       "      <td>1672.1 sec, n=4</td>\n",
       "    </tr>\n",
       "    <tr>\n",
       "      <th>10</th>\n",
       "      <td>Mobility</td>\n",
       "      <td>3</td>\n",
       "      <td>3</td>\n",
       "      <td>0</td>\n",
       "      <td>95.4%, n=3</td>\n",
       "      <td>1416 sec, n=3</td>\n",
       "    </tr>\n",
       "  </tbody>\n",
       "</table>\n",
       "</div>"
      ],
      "text/plain": [
       "    Unnamed: 0    Unnamed: 1 Unnamed: 2   Unnamed: 3    Unnamed: 4  \\\n",
       "0          NaN           NaN        NaN      Ballots           NaN   \n",
       "1   Disability           NaN    Ballots          NaN           NaN   \n",
       "2          NaN  Participants        NaN  Incomplete/           NaN   \n",
       "3     Category           NaN  Completed          NaN      Accuracy   \n",
       "4          NaN           NaN        NaN   Terminated           NaN   \n",
       "5          NaN           NaN        NaN          NaN           NaN   \n",
       "6        Blind             5          1            4    34.5%, n=1   \n",
       "7   Low Vision             5          2            3     98.3% n=2   \n",
       "8          NaN           NaN        NaN          NaN  (97.7%, n=3)   \n",
       "9    Dexterity             5          4            1    98.3%, n=4   \n",
       "10    Mobility             3          3            0    95.4%, n=3   \n",
       "\n",
       "            Results  \n",
       "0               NaN  \n",
       "1               NaN  \n",
       "2               NaN  \n",
       "3           Time to  \n",
       "4               NaN  \n",
       "5          complete  \n",
       "6     1199 sec, n=1  \n",
       "7     1716 sec, n=3  \n",
       "8   (1934 sec, n=2)  \n",
       "9   1672.1 sec, n=4  \n",
       "10    1416 sec, n=3  "
      ]
     },
     "execution_count": 6,
     "metadata": {},
     "output_type": "execute_result"
    }
   ],
   "source": [
    "df = table_pdf[0]\n",
    "df"
   ]
  },
  {
   "cell_type": "code",
   "execution_count": 19,
   "id": "ae6b4db4",
   "metadata": {},
   "outputs": [
    {
     "data": {
      "text/plain": [
       "['Disability Category',\n",
       " 'Participants',\n",
       " 'Ballots Completed',\n",
       " 'Ballots Incomplete/ Terminated',\n",
       " 'Accuracy',\n",
       " 'Time to complete']"
      ]
     },
     "execution_count": 19,
     "metadata": {},
     "output_type": "execute_result"
    }
   ],
   "source": [
    "cols = list(df.iloc[:6].apply(lambda x: \" \".join([str(i) for i in x if i is not np.NAN])))\n",
    "cols"
   ]
  },
  {
   "cell_type": "code",
   "execution_count": 20,
   "id": "0b38b694",
   "metadata": {},
   "outputs": [
    {
     "data": {
      "text/html": [
       "<div>\n",
       "<style scoped>\n",
       "    .dataframe tbody tr th:only-of-type {\n",
       "        vertical-align: middle;\n",
       "    }\n",
       "\n",
       "    .dataframe tbody tr th {\n",
       "        vertical-align: top;\n",
       "    }\n",
       "\n",
       "    .dataframe thead th {\n",
       "        text-align: right;\n",
       "    }\n",
       "</style>\n",
       "<table border=\"1\" class=\"dataframe\">\n",
       "  <thead>\n",
       "    <tr style=\"text-align: right;\">\n",
       "      <th></th>\n",
       "      <th>Unnamed: 0</th>\n",
       "      <th>Unnamed: 1</th>\n",
       "      <th>Unnamed: 2</th>\n",
       "      <th>Unnamed: 3</th>\n",
       "      <th>Unnamed: 4</th>\n",
       "      <th>Results</th>\n",
       "    </tr>\n",
       "  </thead>\n",
       "  <tbody>\n",
       "    <tr>\n",
       "      <th>6</th>\n",
       "      <td>Blind</td>\n",
       "      <td>5</td>\n",
       "      <td>1</td>\n",
       "      <td>4</td>\n",
       "      <td>34.5%, n=1</td>\n",
       "      <td>1199 sec, n=1</td>\n",
       "    </tr>\n",
       "    <tr>\n",
       "      <th>7</th>\n",
       "      <td>Low Vision</td>\n",
       "      <td>5</td>\n",
       "      <td>2</td>\n",
       "      <td>3</td>\n",
       "      <td>98.3% n=2</td>\n",
       "      <td>1716 sec, n=3</td>\n",
       "    </tr>\n",
       "    <tr>\n",
       "      <th>8</th>\n",
       "      <td>NaN</td>\n",
       "      <td>NaN</td>\n",
       "      <td>NaN</td>\n",
       "      <td>NaN</td>\n",
       "      <td>(97.7%, n=3)</td>\n",
       "      <td>(1934 sec, n=2)</td>\n",
       "    </tr>\n",
       "    <tr>\n",
       "      <th>9</th>\n",
       "      <td>Dexterity</td>\n",
       "      <td>5</td>\n",
       "      <td>4</td>\n",
       "      <td>1</td>\n",
       "      <td>98.3%, n=4</td>\n",
       "      <td>1672.1 sec, n=4</td>\n",
       "    </tr>\n",
       "    <tr>\n",
       "      <th>10</th>\n",
       "      <td>Mobility</td>\n",
       "      <td>3</td>\n",
       "      <td>3</td>\n",
       "      <td>0</td>\n",
       "      <td>95.4%, n=3</td>\n",
       "      <td>1416 sec, n=3</td>\n",
       "    </tr>\n",
       "  </tbody>\n",
       "</table>\n",
       "</div>"
      ],
      "text/plain": [
       "    Unnamed: 0 Unnamed: 1 Unnamed: 2 Unnamed: 3    Unnamed: 4          Results\n",
       "6        Blind          5          1          4    34.5%, n=1    1199 sec, n=1\n",
       "7   Low Vision          5          2          3     98.3% n=2    1716 sec, n=3\n",
       "8          NaN        NaN        NaN        NaN  (97.7%, n=3)  (1934 sec, n=2)\n",
       "9    Dexterity          5          4          1    98.3%, n=4  1672.1 sec, n=4\n",
       "10    Mobility          3          3          0    95.4%, n=3    1416 sec, n=3"
      ]
     },
     "execution_count": 20,
     "metadata": {},
     "output_type": "execute_result"
    }
   ],
   "source": [
    "df1 = df.iloc[6:]\n",
    "df1"
   ]
  },
  {
   "cell_type": "code",
   "execution_count": 21,
   "id": "374c9eec",
   "metadata": {},
   "outputs": [],
   "source": [
    "df1.columns = cols"
   ]
  },
  {
   "cell_type": "code",
   "execution_count": 23,
   "id": "d1bfee75",
   "metadata": {},
   "outputs": [
    {
     "name": "stderr",
     "output_type": "stream",
     "text": [
      "C:\\Users\\manyu\\AppData\\Local\\Temp\\ipykernel_18252\\3373723494.py:1: FutureWarning: DataFrame.fillna with 'method' is deprecated and will raise in a future version. Use obj.ffill() or obj.bfill() instead.\n",
      "  df1.fillna(method='ffill', inplace=True)\n",
      "C:\\Users\\manyu\\AppData\\Local\\Temp\\ipykernel_18252\\3373723494.py:1: SettingWithCopyWarning: \n",
      "A value is trying to be set on a copy of a slice from a DataFrame\n",
      "\n",
      "See the caveats in the documentation: https://pandas.pydata.org/pandas-docs/stable/user_guide/indexing.html#returning-a-view-versus-a-copy\n",
      "  df1.fillna(method='ffill', inplace=True)\n"
     ]
    }
   ],
   "source": [
    "df1.fillna(method='ffill', inplace=True)"
   ]
  },
  {
   "cell_type": "code",
   "execution_count": 25,
   "id": "ce9c6e9b",
   "metadata": {},
   "outputs": [
    {
     "data": {
      "text/html": [
       "<div>\n",
       "<style scoped>\n",
       "    .dataframe tbody tr th:only-of-type {\n",
       "        vertical-align: middle;\n",
       "    }\n",
       "\n",
       "    .dataframe tbody tr th {\n",
       "        vertical-align: top;\n",
       "    }\n",
       "\n",
       "    .dataframe thead th {\n",
       "        text-align: right;\n",
       "    }\n",
       "</style>\n",
       "<table border=\"1\" class=\"dataframe\">\n",
       "  <thead>\n",
       "    <tr style=\"text-align: right;\">\n",
       "      <th></th>\n",
       "      <th>Disability Category</th>\n",
       "      <th>Participants</th>\n",
       "      <th>Ballots Completed</th>\n",
       "      <th>Ballots Incomplete/ Terminated</th>\n",
       "      <th>Accuracy</th>\n",
       "      <th>Time to complete</th>\n",
       "    </tr>\n",
       "  </thead>\n",
       "  <tbody>\n",
       "    <tr>\n",
       "      <th>6</th>\n",
       "      <td>Blind</td>\n",
       "      <td>5</td>\n",
       "      <td>1</td>\n",
       "      <td>4</td>\n",
       "      <td>34.5%, n=1</td>\n",
       "      <td>1199 sec, n=1</td>\n",
       "    </tr>\n",
       "    <tr>\n",
       "      <th>7</th>\n",
       "      <td>Low Vision</td>\n",
       "      <td>5</td>\n",
       "      <td>2</td>\n",
       "      <td>3</td>\n",
       "      <td>98.3% n=2</td>\n",
       "      <td>1716 sec, n=3</td>\n",
       "    </tr>\n",
       "    <tr>\n",
       "      <th>8</th>\n",
       "      <td>Low Vision</td>\n",
       "      <td>5</td>\n",
       "      <td>2</td>\n",
       "      <td>3</td>\n",
       "      <td>(97.7%, n=3)</td>\n",
       "      <td>(1934 sec, n=2)</td>\n",
       "    </tr>\n",
       "    <tr>\n",
       "      <th>9</th>\n",
       "      <td>Dexterity</td>\n",
       "      <td>5</td>\n",
       "      <td>4</td>\n",
       "      <td>1</td>\n",
       "      <td>98.3%, n=4</td>\n",
       "      <td>1672.1 sec, n=4</td>\n",
       "    </tr>\n",
       "    <tr>\n",
       "      <th>10</th>\n",
       "      <td>Mobility</td>\n",
       "      <td>3</td>\n",
       "      <td>3</td>\n",
       "      <td>0</td>\n",
       "      <td>95.4%, n=3</td>\n",
       "      <td>1416 sec, n=3</td>\n",
       "    </tr>\n",
       "  </tbody>\n",
       "</table>\n",
       "</div>"
      ],
      "text/plain": [
       "   Disability Category Participants Ballots Completed  \\\n",
       "6                Blind            5                 1   \n",
       "7           Low Vision            5                 2   \n",
       "8           Low Vision            5                 2   \n",
       "9            Dexterity            5                 4   \n",
       "10            Mobility            3                 3   \n",
       "\n",
       "   Ballots Incomplete/ Terminated      Accuracy Time to complete  \n",
       "6                               4    34.5%, n=1    1199 sec, n=1  \n",
       "7                               3     98.3% n=2    1716 sec, n=3  \n",
       "8                               3  (97.7%, n=3)  (1934 sec, n=2)  \n",
       "9                               1    98.3%, n=4  1672.1 sec, n=4  \n",
       "10                              0    95.4%, n=3    1416 sec, n=3  "
      ]
     },
     "execution_count": 25,
     "metadata": {},
     "output_type": "execute_result"
    }
   ],
   "source": [
    "df1"
   ]
  },
  {
   "cell_type": "code",
   "execution_count": 28,
   "id": "f470a584",
   "metadata": {},
   "outputs": [],
   "source": [
    "df1.to_excel('demo_pdf.xlsx')"
   ]
  },
  {
   "cell_type": "code",
   "execution_count": null,
   "id": "c2feee2d",
   "metadata": {},
   "outputs": [],
   "source": []
  }
 ],
 "metadata": {
  "kernelspec": {
   "display_name": "Python 3 (ipykernel)",
   "language": "python",
   "name": "python3"
  },
  "language_info": {
   "codemirror_mode": {
    "name": "ipython",
    "version": 3
   },
   "file_extension": ".py",
   "mimetype": "text/x-python",
   "name": "python",
   "nbconvert_exporter": "python",
   "pygments_lexer": "ipython3",
   "version": "3.10.4"
  }
 },
 "nbformat": 4,
 "nbformat_minor": 5
}
